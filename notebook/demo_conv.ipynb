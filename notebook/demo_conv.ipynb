{
 "cells": [
  {
   "cell_type": "code",
   "execution_count": 2,
   "metadata": {},
   "outputs": [],
   "source": [
    "import cv2\n",
    "import numpy as np\n",
    "import matplotlib.pyplot as plt\n",
    "from scipy.signal import convolve2d"
   ]
  },
  {
   "cell_type": "code",
   "execution_count": 3,
   "metadata": {},
   "outputs": [],
   "source": [
    "I = np.array ([[20, 21, 23, 24, 24, 24],\n",
    "               [23, 22, 24, 25, 26, 26],\n",
    "               [22, 23, 25, 28, 30, 31],\n",
    "               [25, 28, 29, 30, 30, 31],\n",
    "               [26, 29, 30, 31, 35, 35],\n",
    "               [28, 30, 31, 31, 33, 33]])\n",
    "\n",
    "H = np.array ([[0, 1, 0],\n",
    "               [1, 4, 1],\n",
    "               [0, 1, 1]]) / 8"
   ]
  },
  {
   "cell_type": "code",
   "execution_count": 4,
   "metadata": {},
   "outputs": [],
   "source": [
    "Y = convolve2d(I, H, 'same', 'symm')"
   ]
  },
  {
   "cell_type": "code",
   "execution_count": 5,
   "metadata": {},
   "outputs": [
    {
     "name": "stdout",
     "output_type": "stream",
     "text": [
      "[[23.    23.75  25.625 26.875 27.25  27.25 ]\n",
      " [24.875 24.875 26.5   28.125 29.125 29.375]\n",
      " [25.5   26.5   28.25  30.75  32.5   33.5  ]\n",
      " [27.875 30.    31.5   32.875 34.25  35.125]\n",
      " [29.625 31.875 33.5   34.875 37.375 38.   ]\n",
      " [31.25  33.    34.375 35.    36.875 37.625]]\n"
     ]
    }
   ],
   "source": [
    "print(Y)"
   ]
  },
  {
   "cell_type": "code",
   "execution_count": null,
   "metadata": {},
   "outputs": [],
   "source": []
  }
 ],
 "metadata": {
  "kernelspec": {
   "display_name": "Python 3",
   "language": "python",
   "name": "python3"
  },
  "language_info": {
   "codemirror_mode": {
    "name": "ipython",
    "version": 3
   },
   "file_extension": ".py",
   "mimetype": "text/x-python",
   "name": "python",
   "nbconvert_exporter": "python",
   "pygments_lexer": "ipython3",
   "version": "3.10.11"
  }
 },
 "nbformat": 4,
 "nbformat_minor": 2
}
